{
 "cells": [
  {
   "cell_type": "markdown",
   "id": "30c01695",
   "metadata": {},
   "source": [
    "# python assignment\n"
   ]
  },
  {
   "cell_type": "code",
   "execution_count": 3,
   "id": "8232058b",
   "metadata": {},
   "outputs": [
    {
     "name": "stdout",
     "output_type": "stream",
     "text": [
      "1505\n",
      "1540\n",
      "1575\n",
      "1610\n",
      "1645\n",
      "1680\n",
      "1715\n",
      "1750\n",
      "1785\n",
      "1820\n",
      "1855\n",
      "1890\n",
      "1925\n",
      "1960\n",
      "1995\n",
      "2030\n",
      "2065\n",
      "2100\n",
      "2135\n",
      "2170\n",
      "2205\n",
      "2240\n",
      "2275\n",
      "2310\n",
      "2345\n",
      "2380\n",
      "2415\n",
      "2450\n",
      "2485\n",
      "2520\n",
      "2555\n",
      "2590\n",
      "2625\n",
      "2660\n",
      "2695\n"
     ]
    }
   ],
   "source": [
    "for i in range(1500,2701):\n",
    "    if i % 7 ==0 and i %5==0:\n",
    "        print(i)"
   ]
  },
  {
   "cell_type": "markdown",
   "id": "bbc4be82",
   "metadata": {},
   "source": [
    "# celsius to fehreneit"
   ]
  },
  {
   "cell_type": "code",
   "execution_count": 7,
   "id": "f96e57ef",
   "metadata": {},
   "outputs": [
    {
     "name": "stdout",
     "output_type": "stream",
     "text": [
      "60°C is 140 in fahrenheit\n",
      "45°F is 7 in celsius\n"
     ]
    }
   ],
   "source": [
    "def celsius_to_fahrenheit(celsius):\n",
    "    fahrenheit = (celsius*1.8)+32\n",
    "    return fahrenheit\n",
    "def fahrenheit_to_celsius(fahrenheit):\n",
    "    celsius=(fahrenheit-32)/1.8\n",
    "    return celsius\n",
    "celsius = 60\n",
    "fahrenheit = celsius_to_fahrenheit(celsius)\n",
    "print(f\"{celsius}°C is {fahrenheit:.0f} in fahrenheit\")\n",
    "fahrenheit=45\n",
    "celsius = fahrenheit_to_celsius(fahrenheit)\n",
    "print(f\"{fahrenheit}°F is {celsius:.0f} in celsius\")\n",
    "\n"
   ]
  },
  {
   "cell_type": "markdown",
   "id": "e410d370",
   "metadata": {},
   "source": [
    "# number guess"
   ]
  },
  {
   "cell_type": "code",
   "execution_count": 9,
   "id": "2aff631b",
   "metadata": {},
   "outputs": [
    {
     "name": "stdout",
     "output_type": "stream",
     "text": [
      "Guess a number between 1 and 9: 9\n",
      "Try again.\n",
      "Guess a number between 1 and 9: 8\n",
      "Try again.\n",
      "Guess a number between 1 and 9: 7\n",
      "Try again.\n",
      "Guess a number between 1 and 9: 6\n",
      "Try again.\n",
      "Guess a number between 1 and 9: 5\n",
      "Try again.\n",
      "Guess a number between 1 and 9: 4\n",
      "Well guessed!\n"
     ]
    }
   ],
   "source": [
    "import random\n",
    "\n",
    "number = random.randint(1, 9)\n",
    "guess = 0\n",
    "\n",
    "while guess != number:\n",
    "    guess = int(input(\"Guess a number between 1 and 9: \"))\n",
    "    if guess == number:\n",
    "        print(\"Well guessed!\")\n",
    "        break\n",
    "    else:\n",
    "        print(\"Try again.\")\n",
    "\n"
   ]
  },
  {
   "cell_type": "markdown",
   "id": "0d0a41ca",
   "metadata": {},
   "source": [
    "# reverse "
   ]
  },
  {
   "cell_type": "code",
   "execution_count": 4,
   "id": "3abd9f00",
   "metadata": {},
   "outputs": [
    {
     "name": "stdout",
     "output_type": "stream",
     "text": [
      "enter a wordtiuyt\n",
      "Reversed word:tyuit\n"
     ]
    }
   ],
   "source": [
    "a=input(\"enter a word\")\n",
    "print(f\"Reversed word:{a[::-1]}\")"
   ]
  },
  {
   "cell_type": "markdown",
   "id": "4140f069",
   "metadata": {},
   "source": [
    "# print number 0 to 6 except 3 and 6"
   ]
  },
  {
   "cell_type": "code",
   "execution_count": 6,
   "id": "e90ccfcd",
   "metadata": {},
   "outputs": [
    {
     "name": "stdout",
     "output_type": "stream",
     "text": [
      "0 1 2 4 5 \n",
      "\n"
     ]
    }
   ],
   "source": [
    "for i in range (6):\n",
    "    if (i==3 or i==6):\n",
    "        continue\n",
    "    print(i,end=\" \")\n",
    "print(\"\\n\")"
   ]
  },
  {
   "cell_type": "markdown",
   "id": "5d291185",
   "metadata": {},
   "source": [
    "# ques6"
   ]
  },
  {
   "cell_type": "code",
   "execution_count": 7,
   "id": "4aeabad4",
   "metadata": {},
   "outputs": [
    {
     "name": "stdout",
     "output_type": "stream",
     "text": [
      "1\n",
      "2\n",
      "Fizz\n",
      "4\n",
      "Buzz\n",
      "Fizz\n",
      "7\n",
      "8\n",
      "Fizz\n",
      "Buzz\n",
      "11\n",
      "Fizz\n",
      "13\n",
      "14\n",
      "FizzBuzz\n",
      "16\n",
      "17\n",
      "Fizz\n",
      "19\n",
      "Buzz\n",
      "Fizz\n",
      "22\n",
      "23\n",
      "Fizz\n",
      "Buzz\n",
      "26\n",
      "Fizz\n",
      "28\n",
      "29\n",
      "FizzBuzz\n",
      "31\n",
      "32\n",
      "Fizz\n",
      "34\n",
      "Buzz\n",
      "Fizz\n",
      "37\n",
      "38\n",
      "Fizz\n",
      "Buzz\n",
      "41\n",
      "Fizz\n",
      "43\n",
      "44\n",
      "FizzBuzz\n",
      "46\n",
      "47\n",
      "Fizz\n",
      "49\n",
      "Buzz\n"
     ]
    }
   ],
   "source": [
    "for i in range (1,51):\n",
    "    if i%3==0 and i %5==0:\n",
    "        print(\"FizzBuzz\")\n",
    "    elif i%3==0:\n",
    "        print(\"Fizz\")\n",
    "    elif i%5==0:\n",
    "        print(\"Buzz\")\n",
    "    else:\n",
    "        print(i)"
   ]
  },
  {
   "cell_type": "code",
   "execution_count": 8,
   "id": "26593c49",
   "metadata": {},
   "outputs": [
    {
     "name": "stdout",
     "output_type": "stream",
     "text": [
      "Input a stringfgry\n",
      "Letters 4\n",
      "Digits 0\n"
     ]
    }
   ],
   "source": [
    "s = input(\"Input a string\")\n",
    "d = l = 0\n",
    "for c in s:\n",
    "    if c.isdigit():\n",
    "        d = d + 1\n",
    "    elif c.isalpha():\n",
    "        l = l + 1\n",
    "    else:\n",
    "        pass\n",
    "print(\"Letters\", l)\n",
    "print(\"Digits\", d)\n"
   ]
  },
  {
   "cell_type": "code",
   "execution_count": null,
   "id": "06b1c7e8",
   "metadata": {},
   "outputs": [],
   "source": []
  }
 ],
 "metadata": {
  "kernelspec": {
   "display_name": "Python 3",
   "language": "python",
   "name": "python3"
  },
  "language_info": {
   "codemirror_mode": {
    "name": "ipython",
    "version": 3
   },
   "file_extension": ".py",
   "mimetype": "text/x-python",
   "name": "python",
   "nbconvert_exporter": "python",
   "pygments_lexer": "ipython3",
   "version": "3.8.8"
  }
 },
 "nbformat": 4,
 "nbformat_minor": 5
}
